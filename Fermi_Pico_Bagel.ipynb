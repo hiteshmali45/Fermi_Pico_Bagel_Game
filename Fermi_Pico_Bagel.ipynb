{
  "cells": [
    {
      "cell_type": "markdown",
      "metadata": {
        "id": "view-in-github",
        "colab_type": "text"
      },
      "source": [
        "<a href=\"https://colab.research.google.com/github/hiteshmali45/Fermi_Pico_Bagel_Game/blob/main/Fermi_Pico_Bagel.ipynb\" target=\"_parent\"><img src=\"https://colab.research.google.com/assets/colab-badge.svg\" alt=\"Open In Colab\"/></a>"
      ]
    },
    {
      "cell_type": "markdown",
      "id": "0b55c9a8",
      "metadata": {
        "id": "0b55c9a8"
      },
      "source": [
        "## Fermi Pico Bagel\n",
        "Try playing game and understand the rules : https://communicrossings.com/html/js/pfb.htm\n",
        "\n",
        "## Step 1\n",
        "Store any number in string format(number to be guessed by player) in a variable `original_number`.\n",
        "\n",
        "For Example: original_number = '123'\n"
      ]
    },
    {
      "cell_type": "code",
      "execution_count": null,
      "id": "57a0a2d0",
      "metadata": {
        "id": "57a0a2d0"
      },
      "outputs": [],
      "source": [
        "## Your code goes here\n",
        "original_number = '123'"
      ]
    },
    {
      "cell_type": "markdown",
      "id": "fd43340c",
      "metadata": {
        "id": "fd43340c"
      },
      "source": [
        "## Step 2\n",
        "Take a number as user input and save it in a variable `guess_number`.(Make sure that the datatype of guess_number is same as of original number i.e- `str`)"
      ]
    },
    {
      "cell_type": "code",
      "execution_count": null,
      "id": "2e0075a7",
      "metadata": {
        "colab": {
          "base_uri": "https://localhost:8080/"
        },
        "id": "2e0075a7",
        "outputId": "cca00c60-c194-4f09-d66d-3d8f1deb25e4"
      },
      "outputs": [
        {
          "name": "stdout",
          "output_type": "stream",
          "text": [
            "enter a no.123\n"
          ]
        }
      ],
      "source": [
        "## Your code goes here\n",
        "guess_number=input(\"enter a no.\")\n"
      ]
    },
    {
      "cell_type": "markdown",
      "id": "22318243",
      "metadata": {
        "id": "22318243"
      },
      "source": [
        "## Step 3\n",
        "Check if total number of digits in `original_number` and `guess_number` is not same(Use `len()` function) then ask user for valid input.(First use `len()` to get total digits in `original_number` and `guess_number`.)"
      ]
    },
    {
      "cell_type": "code",
      "execution_count": null,
      "id": "258e2971",
      "metadata": {
        "id": "258e2971"
      },
      "outputs": [],
      "source": [
        "## Your code goes here\n",
        "if len(original_number)!= len(guess_number):\n",
        "    print(\"valid input\")\n"
      ]
    },
    {
      "cell_type": "markdown",
      "id": "0c064bda",
      "metadata": {
        "id": "0c064bda"
      },
      "source": [
        "## Step 4\n",
        "Using `set()`, check if the digits are repeated in a `guess_number` .\n",
        "Note that datatype `set` allows unique values only.\n",
        "\n",
        "For ex. if `user_input`is 122, then it should print the string 'Duplicate number'  as digit 2 is repeated."
      ]
    },
    {
      "cell_type": "code",
      "execution_count": null,
      "id": "7b5ef10d",
      "metadata": {
        "id": "7b5ef10d"
      },
      "outputs": [],
      "source": [
        "## Your code goes here\n",
        "if len(set(original_number))!=len(set(guess_number)):\n",
        "    print(\"Duplicate number\")\n",
        "\n",
        "\n"
      ]
    },
    {
      "cell_type": "markdown",
      "id": "0514b8d9",
      "metadata": {
        "id": "0514b8d9"
      },
      "source": [
        "## Step 5\n",
        "Check winning condition i.e. if both `guess_number` and `original_number` are same, then print 'Fermi' as many number of times as number of digits in a number and print ' You win !! '.\n"
      ]
    },
    {
      "cell_type": "code",
      "execution_count": null,
      "id": "ab9379a5",
      "metadata": {
        "colab": {
          "base_uri": "https://localhost:8080/"
        },
        "id": "ab9379a5",
        "outputId": "429a67b3-ca2b-4d2d-ba23-a856819c091f"
      },
      "outputs": [
        {
          "output_type": "stream",
          "name": "stdout",
          "text": [
            "Fermi\n"
          ]
        }
      ],
      "source": [
        "## Your code goes here\n",
        "if len(guess_number)==len(original_number):\n",
        "    print(\"Fermi\")"
      ]
    },
    {
      "cell_type": "markdown",
      "id": "96eca378",
      "metadata": {
        "id": "96eca378"
      },
      "source": [
        "## Step 6\n",
        "Create empty list called `output` where we will store the output in the form of list.\n",
        "\n",
        "For example: output = [ ' Fermi ', ' Pico ' ,' Pico ' ] ."
      ]
    },
    {
      "cell_type": "code",
      "execution_count": null,
      "id": "c047a839",
      "metadata": {
        "colab": {
          "base_uri": "https://localhost:8080/"
        },
        "id": "c047a839",
        "outputId": "5587b5fd-a36c-4a61-e110-8eaaec8a132b"
      },
      "outputs": [
        {
          "output_type": "stream",
          "name": "stdout",
          "text": [
            "None\n",
            "None\n",
            "None\n",
            "Fermi Fermi Fermi\n"
          ]
        }
      ],
      "source": [
        "## Your code goes here\n",
        "output=[]\n",
        "for i in range(len(guess_number)):\n",
        "    if guess_number[i]==original_number[i]:\n",
        "        print(output.append(\"Fermi\"))\n",
        "    elif guess_number[i] in original_number:\n",
        "        print(output.append(\"Pico\"))\n",
        "if len(output)==0:\n",
        "    print(\"Bagels\")\n",
        "else:\n",
        "    print(\" \".join(output))\n",
        "\n",
        "\n"
      ]
    },
    {
      "cell_type": "markdown",
      "id": "4949309d",
      "metadata": {
        "id": "4949309d"
      },
      "source": [
        "## Step 7\n",
        "Check if any digit and it's position in both `guess_number` and `original_number` are same then append 'Fermi' to `output` list or if only digit matches and not the position then append 'Pico' to `output`.\n"
      ]
    },
    {
      "cell_type": "code",
      "execution_count": null,
      "id": "7dbe3800",
      "metadata": {
        "id": "7dbe3800"
      },
      "outputs": [],
      "source": [
        "## Your code goes here\n",
        "if len(guess_number)==len(original_number):\n",
        "    output.append(\"Fermi\")\n",
        "elif len(guess_number)!=len(original_number):\n",
        "    output.append(\"Pico\")\n"
      ]
    },
    {
      "cell_type": "markdown",
      "id": "59e62457",
      "metadata": {
        "id": "59e62457"
      },
      "source": [
        "## Step 8\n",
        "Define a variable called `output_string` which has all values from a list `output` with each value separated by space. (Use 'for' loop to get all the values from a list `output`.)"
      ]
    },
    {
      "cell_type": "code",
      "execution_count": null,
      "id": "d15c8f60",
      "metadata": {
        "colab": {
          "base_uri": "https://localhost:8080/",
          "height": 35
        },
        "id": "d15c8f60",
        "outputId": "2bb88978-394f-48b7-af31-d9a097a1e07c"
      },
      "outputs": [
        {
          "output_type": "execute_result",
          "data": {
            "text/plain": [
              "'Fermi Fermi Fermi '"
            ],
            "application/vnd.google.colaboratory.intrinsic+json": {
              "type": "string"
            }
          },
          "metadata": {},
          "execution_count": 21
        }
      ],
      "source": [
        "## Your code goes here\n",
        "output_string  = \"\"\n",
        "for i in output:\n",
        "    output_string += i +\" \"\n",
        "\n",
        "output_string"
      ]
    },
    {
      "cell_type": "markdown",
      "id": "f3f50bef",
      "metadata": {
        "id": "f3f50bef"
      },
      "source": [
        "## Step 9\n",
        "Check if neither any digit nor any position matches i.e. if length of `output` list is zero then print `Bagel`.\n",
        "\n",
        "Otherwise print `output_string`."
      ]
    },
    {
      "cell_type": "code",
      "execution_count": null,
      "id": "3c568356",
      "metadata": {
        "id": "3c568356"
      },
      "outputs": [],
      "source": [
        "## Your code goes here"
      ]
    },
    {
      "cell_type": "markdown",
      "id": "9d4a684d",
      "metadata": {
        "id": "9d4a684d"
      },
      "source": [
        "## Step 10\n",
        "\n",
        "## Complete game\n",
        "Here use continue and break statements at appropriate places."
      ]
    },
    {
      "cell_type": "code",
      "execution_count": null,
      "id": "79843cdf",
      "metadata": {
        "id": "79843cdf"
      },
      "outputs": [],
      "source": [
        "\n",
        "original_number = '123'\n",
        "\n",
        "while True:\n",
        "    guess_number=input(\"enter a no.\")\n",
        "    if len(original_number)!= len(guess_number):\n",
        "        print(\"valid input\")\n",
        "    elif len(set(original_number))!=len(set(guess_number)):\n",
        "        print(\"Duplicate number\")\n",
        "        continue\n",
        "\n",
        "    output=[]\n",
        "    for i in range(len(guess_number)):\n",
        "        if guess_number[i]==original_number[i]:\n",
        "            output.append(\"Fermi\")\n",
        "        elif guess_number[i] in original_number:\n",
        "            output.append(\"Pico\")\n",
        "        else:\n",
        "            output.append(\"Bagels\")\n",
        "\n",
        "\n",
        "\n",
        "\n",
        "    print(output)\n",
        "    if output == ['Fermi', 'Fermi', 'Fermi']:\n",
        "        print('win')\n",
        "        break\n",
        "    else:\n",
        "        print('try again')\n",
        "        continue\n",
        "\n",
        "\n",
        "\n"
      ]
    },
    {
      "cell_type": "code",
      "source": [],
      "metadata": {
        "id": "dcglltW5YySW"
      },
      "id": "dcglltW5YySW",
      "execution_count": null,
      "outputs": []
    }
  ],
  "metadata": {
    "kernelspec": {
      "display_name": "Python 3",
      "language": "python",
      "name": "python3"
    },
    "language_info": {
      "codemirror_mode": {
        "name": "ipython",
        "version": 3
      },
      "file_extension": ".py",
      "mimetype": "text/x-python",
      "name": "python",
      "nbconvert_exporter": "python",
      "pygments_lexer": "ipython3",
      "version": "3.8.8"
    },
    "colab": {
      "provenance": [],
      "include_colab_link": true
    }
  },
  "nbformat": 4,
  "nbformat_minor": 5
}